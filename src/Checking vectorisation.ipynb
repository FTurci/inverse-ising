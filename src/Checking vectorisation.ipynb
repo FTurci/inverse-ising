{
 "cells": [
  {
   "cell_type": "code",
   "execution_count": 2,
   "metadata": {},
   "outputs": [],
   "source": [
    "import numpy as np"
   ]
  },
  {
   "cell_type": "code",
   "execution_count": 42,
   "metadata": {},
   "outputs": [],
   "source": [
    "N = 4\n",
    "B = 10\n",
    "s = 2*np.random.randint(0,2, (B,N))-1\n",
    "Ju = np.arange(N*(N-1)/2)\n",
    "row, col = np.triu_indices(N,k=1)\n",
    "J = np.zeros((N,N))\n",
    "J [row,col] = Ju\n",
    "J += J.T"
   ]
  },
  {
   "cell_type": "code",
   "execution_count": 43,
   "metadata": {},
   "outputs": [
    {
     "data": {
      "text/plain": [
       "array([[-1,  1, -1,  1],\n",
       "       [-1,  1, -1, -1],\n",
       "       [-1,  1, -1, -1],\n",
       "       [ 1, -1,  1,  1],\n",
       "       [-1, -1,  1, -1],\n",
       "       [-1,  1,  1, -1],\n",
       "       [ 1,  1,  1,  1],\n",
       "       [ 1, -1, -1,  1],\n",
       "       [ 1, -1,  1, -1],\n",
       "       [ 1,  1,  1,  1]])"
      ]
     },
     "execution_count": 43,
     "metadata": {},
     "output_type": "execute_result"
    }
   ],
   "source": [
    "s"
   ]
  },
  {
   "cell_type": "code",
   "execution_count": 44,
   "metadata": {},
   "outputs": [
    {
     "data": {
      "text/plain": [
       "(10, 4)"
      ]
     },
     "execution_count": 44,
     "metadata": {},
     "output_type": "execute_result"
    }
   ],
   "source": [
    "s.shape"
   ]
  },
  {
   "cell_type": "code",
   "execution_count": 45,
   "metadata": {},
   "outputs": [
    {
     "data": {
      "text/plain": [
       "array([[0., 0., 1., 2.],\n",
       "       [0., 0., 3., 4.],\n",
       "       [1., 3., 0., 5.],\n",
       "       [2., 4., 5., 0.]])"
      ]
     },
     "execution_count": 45,
     "metadata": {},
     "output_type": "execute_result"
    }
   ],
   "source": [
    "J"
   ]
  },
  {
   "cell_type": "code",
   "execution_count": 84,
   "metadata": {},
   "outputs": [
    {
     "data": {
      "text/plain": [
       "(10, 4)"
      ]
     },
     "execution_count": 84,
     "metadata": {},
     "output_type": "execute_result"
    }
   ],
   "source": [
    "t = np.dot(s,J)\n",
    "t.shape"
   ]
  },
  {
   "cell_type": "code",
   "execution_count": 85,
   "metadata": {},
   "outputs": [
    {
     "data": {
      "text/plain": [
       "array([[ 1.,  1.,  7., -3.],\n",
       "       [-3., -7., -3., -3.],\n",
       "       [-3., -7., -3., -3.],\n",
       "       [ 3.,  7.,  3.,  3.],\n",
       "       [-1., -1., -9., -1.],\n",
       "       [-1., -1., -3.,  7.],\n",
       "       [ 3.,  7.,  9., 11.],\n",
       "       [ 1.,  1.,  3., -7.],\n",
       "       [-1., -1., -7.,  3.],\n",
       "       [ 3.,  7.,  9., 11.]])"
      ]
     },
     "execution_count": 85,
     "metadata": {},
     "output_type": "execute_result"
    }
   ],
   "source": [
    "np.matmul(s,J)"
   ]
  },
  {
   "cell_type": "code",
   "execution_count": 89,
   "metadata": {},
   "outputs": [
    {
     "ename": "ValueError",
     "evalue": "operands could not be broadcast together with shapes (10,4,1) (4,1,4) ",
     "output_type": "error",
     "traceback": [
      "\u001b[0;31m---------------------------------------------------------------------------\u001b[0m",
      "\u001b[0;31mValueError\u001b[0m                                Traceback (most recent call last)",
      "\u001b[0;32m<ipython-input-89-4094ba6d4d4e>\u001b[0m in \u001b[0;36m<module>\u001b[0;34m\u001b[0m\n\u001b[0;32m----> 1\u001b[0;31m \u001b[0ms\u001b[0m\u001b[0;34m[\u001b[0m\u001b[0;34m...\u001b[0m\u001b[0;34m,\u001b[0m \u001b[0;32mNone\u001b[0m\u001b[0;34m]\u001b[0m\u001b[0;34m*\u001b[0m\u001b[0mJ\u001b[0m\u001b[0;34m[\u001b[0m\u001b[0;34m:\u001b[0m\u001b[0;34m,\u001b[0m\u001b[0;32mNone\u001b[0m\u001b[0;34m,\u001b[0m\u001b[0;34m:\u001b[0m\u001b[0;34m]\u001b[0m\u001b[0;34m\u001b[0m\u001b[0;34m\u001b[0m\u001b[0m\n\u001b[0m",
      "\u001b[0;31mValueError\u001b[0m: operands could not be broadcast together with shapes (10,4,1) (4,1,4) "
     ]
    }
   ],
   "source": [
    "s[..., None]*J[:,None,:]"
   ]
  },
  {
   "cell_type": "code",
   "execution_count": 124,
   "metadata": {},
   "outputs": [],
   "source": [
    "A = np.array([[0, 1],  \n",
    "            [2, 3],  \n",
    "            [4, 5]])   \n",
    "\n",
    "B = np.array([[ 6,  7],  \n",
    "           [ 8,  9]])"
   ]
  },
  {
   "cell_type": "code",
   "execution_count": 144,
   "metadata": {},
   "outputs": [
    {
     "data": {
      "text/plain": [
       "array([[[  0,   0],\n",
       "        [  0,   9]],\n",
       "\n",
       "       [[ 24,  42],\n",
       "        [ 48,  81]],\n",
       "\n",
       "       [[ 96, 140],\n",
       "        [160, 225]]])"
      ]
     },
     "execution_count": 144,
     "metadata": {},
     "output_type": "execute_result"
    }
   ],
   "source": [
    "p=A[:,:,None]*A[:,None,:]*B\n",
    "p"
   ]
  },
  {
   "cell_type": "code",
   "execution_count": null,
   "metadata": {},
   "outputs": [],
   "source": []
  }
 ],
 "metadata": {
  "kernelspec": {
   "display_name": "Python 3",
   "language": "python",
   "name": "python3"
  },
  "language_info": {
   "codemirror_mode": {
    "name": "ipython",
    "version": 3
   },
   "file_extension": ".py",
   "mimetype": "text/x-python",
   "name": "python",
   "nbconvert_exporter": "python",
   "pygments_lexer": "ipython3",
   "version": "3.7.1"
  }
 },
 "nbformat": 4,
 "nbformat_minor": 4
}
