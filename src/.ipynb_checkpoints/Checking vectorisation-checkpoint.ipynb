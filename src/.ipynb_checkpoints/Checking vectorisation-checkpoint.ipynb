{
 "cells": [
  {
   "cell_type": "code",
   "execution_count": 2,
   "metadata": {},
   "outputs": [],
   "source": [
    "import numpy as np"
   ]
  },
  {
   "cell_type": "code",
   "execution_count": 10,
   "metadata": {},
   "outputs": [],
   "source": [
    "N = 4\n",
    "B = 10\n",
    "s = 2*np.random.randint(0,2, (B,N))-1\n",
    "Ju = np.arange(N*(N-1)/2)\n",
    "row, col = np.triu_indices(N,k=1)\n",
    "J = np.zeros((N,N))\n",
    "J [row,col] = Ju\n",
    "J += J.T"
   ]
  },
  {
   "cell_type": "code",
   "execution_count": 17,
   "metadata": {},
   "outputs": [
    {
     "data": {
      "text/plain": [
       "array([[-1,  1,  1,  1],\n",
       "       [ 1,  1, -1, -1],\n",
       "       [ 1, -1, -1,  1],\n",
       "       [-1,  1, -1,  1],\n",
       "       [ 1,  1, -1,  1],\n",
       "       [-1, -1,  1,  1],\n",
       "       [ 1,  1, -1,  1],\n",
       "       [-1, -1,  1,  1],\n",
       "       [-1, -1, -1,  1],\n",
       "       [-1, -1,  1,  1]])"
      ]
     },
     "execution_count": 17,
     "metadata": {},
     "output_type": "execute_result"
    }
   ],
   "source": [
    "s"
   ]
  },
  {
   "cell_type": "code",
   "execution_count": 29,
   "metadata": {},
   "outputs": [
    {
     "data": {
      "text/plain": [
       "array([[ -3.,   7.,   7.,   7.],\n",
       "       [ -3.,  -7.,   1.,  -1.],\n",
       "       [  1.,  -1.,  -3.,  -7.],\n",
       "       [ -1.,   1.,  -7.,  -3.],\n",
       "       [  1.,   1.,  -9.,   1.],\n",
       "       [ -3.,  -7.,   1.,  -1.],\n",
       "       [  1.,   1.,  -9.,   1.],\n",
       "       [ -3.,  -7.,   1.,  -1.],\n",
       "       [ -1.,  -1.,  -1., -11.],\n",
       "       [ -3.,  -7.,   1.,  -1.]])"
      ]
     },
     "execution_count": 29,
     "metadata": {},
     "output_type": "execute_result"
    }
   ],
   "source": [
    "(s@J)*s"
   ]
  }
 ],
 "metadata": {
  "kernelspec": {
   "display_name": "Python 3",
   "language": "python",
   "name": "python3"
  },
  "language_info": {
   "codemirror_mode": {
    "name": "ipython",
    "version": 3
   },
   "file_extension": ".py",
   "mimetype": "text/x-python",
   "name": "python",
   "nbconvert_exporter": "python",
   "pygments_lexer": "ipython3",
   "version": "3.7.1"
  }
 },
 "nbformat": 4,
 "nbformat_minor": 4
}
